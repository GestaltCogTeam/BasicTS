{
 "cells": [
  {
   "cell_type": "code",
   "execution_count": 17,
   "id": "60d6a465",
   "metadata": {},
   "outputs": [
    {
     "name": "stdout",
     "output_type": "stream",
     "text": [
      "均值: tensor([[ 1.0000,  7.0000],\n",
      "        [ 2.5000,  8.5000],\n",
      "        [ 4.5000, 10.5000],\n",
      "        [ 6.0000, 12.0000]])\n",
      "标准差: tensor([[0.0000, 0.0000],\n",
      "        [0.5000, 0.5000],\n",
      "        [0.5000, 0.5000],\n",
      "        [0.0000, 0.0000]])\n"
     ]
    }
   ],
   "source": [
    "import torch\n",
    "\n",
    "def compute_id_stats(residual: torch.Tensor):\n",
    "    # tensor shape: N x H x C\n",
    "    N, H, C = residual.shape\n",
    "    \n",
    "    # 生成对角线索引\n",
    "    ids = (torch.arange(N, device=residual.device)[:, None] + \n",
    "           torch.arange(H, device=residual.device)[None, :])  # shape (N, H)\n",
    "    \n",
    "    # 展平并准备数据\n",
    "    x_flat = residual.view(-1, C)  # [N*H, C]\n",
    "    ids_flat = ids.view(-1, 1).expand(-1, C)  # [N*H, C]\n",
    "    \n",
    "    # 初始化结果张量\n",
    "    result_shape = (N + H - 1, C)\n",
    "    sum_per_id = torch.zeros(result_shape, dtype=residual.dtype, device=residual.device)\n",
    "    sum_squared_per_id = torch.zeros_like(sum_per_id)\n",
    "    \n",
    "    # 计算总和和平方和\n",
    "    sum_per_id.scatter_add_(0, ids_flat, x_flat)\n",
    "    sum_squared_per_id.scatter_add_(0, ids_flat, (residual ** 2).view(-1, C))\n",
    "    \n",
    "    # 计算元素数目\n",
    "    counts = torch.bincount(ids.view(-1), minlength=N+H-1).to(dtype=residual.dtype)\n",
    "    counts = counts.unsqueeze(-1).expand(-1, C)\n",
    "    \n",
    "    # 计算均值和标准差\n",
    "    mean = sum_per_id / counts\n",
    "    std = torch.sqrt((sum_squared_per_id / counts) - mean.pow(2))\n",
    "    \n",
    "    return mean, std\n",
    "\n",
    "# 示例用法\n",
    "N, H, C = 3, 2, 2\n",
    "X = torch.tensor([\n",
    "    [[1, 7], [2, 8]],\n",
    "    [[3, 9], [4, 10]],\n",
    "    [[5, 11], [6, 12]]\n",
    "], dtype=torch.float32)\n",
    "mean, std = compute_id_stats(X)\n",
    "print(\"均值:\", mean)\n",
    "print(\"标准差:\", std)"
   ]
  }
 ],
 "metadata": {
  "kernelspec": {
   "display_name": "fys",
   "language": "python",
   "name": "python3"
  },
  "language_info": {
   "codemirror_mode": {
    "name": "ipython",
    "version": 3
   },
   "file_extension": ".py",
   "mimetype": "text/x-python",
   "name": "python",
   "nbconvert_exporter": "python",
   "pygments_lexer": "ipython3",
   "version": "3.12.9"
  }
 },
 "nbformat": 4,
 "nbformat_minor": 5
}

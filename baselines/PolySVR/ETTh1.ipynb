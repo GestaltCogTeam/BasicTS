{
 "cells": [
  {
   "cell_type": "code",
   "execution_count": null,
   "metadata": {},
   "outputs": [],
   "source": [
    "import os\n",
    "import sys\n",
    "PROJECT_DIR = os.path.abspath(\"../..\")\n",
    "from joblib import Parallel, delayed\n",
    "from tqdm import tqdm\n",
    "import warnings\n",
    "warnings.filterwarnings(\"ignore\")\n",
    "os.chdir(PROJECT_DIR)\n",
    "sys.path.append(PROJECT_DIR)"
   ]
  },
  {
   "cell_type": "code",
   "execution_count": null,
   "metadata": {},
   "outputs": [],
   "source": [
    "from typing import Dict\n",
    "import numpy as np\n",
    "import torch\n",
    "from torch.utils.data import DataLoader\n",
    "from sklearn.svm import SVR\n",
    "from basicts.utils import load_pkl, get_regular_settings\n",
    "from basicts.data import TimeSeriesForecastingDataset\n",
    "from basicts.metrics import masked_mae, masked_rmse, masked_mape, masked_mse\n",
    "from basicts.scaler import ZScoreScaler"
   ]
  },
  {
   "cell_type": "markdown",
   "metadata": {},
   "source": [
    "## Hyper-parameters"
   ]
  },
  {
   "cell_type": "code",
   "execution_count": null,
   "metadata": {},
   "outputs": [],
   "source": [
    "# construct configs\n",
    "dataset_name = \"ETTh1\"\n",
    "\n",
    "regular_settings = get_regular_settings(dataset_name)\n",
    "\n",
    "input_len = 96 # regular_settings['INPUT_LEN']\n",
    "output_len = 96 # regular_settings['OUTPUT_LEN']\n",
    "rescale = regular_settings['RESCALE']\n",
    "null_val = regular_settings['NULL_VAL']\n",
    "norm_each_channel = regular_settings['NORM_EACH_CHANNEL']\n",
    "train_val_test_ratio = regular_settings['TRAIN_VAL_TEST_RATIO']\n",
    "\n",
    "# target_time_series = None # for subset forecasting\n",
    "target_time_series = None # for subset forecasting\n",
    "\n",
    "gpu_num = 1\n",
    "batch_size = 128 # only used for collecting data"
   ]
  },
  {
   "cell_type": "markdown",
   "metadata": {},
   "source": [
    "## Construct Dataset"
   ]
  },
  {
   "cell_type": "code",
   "execution_count": null,
   "metadata": {},
   "outputs": [],
   "source": [
    "train_set = TimeSeriesForecastingDataset(dataset_name=dataset_name, input_len=input_len, output_len=output_len, train_val_test_ratio=train_val_test_ratio, mode=\"train\")\n",
    "valid_set = TimeSeriesForecastingDataset(dataset_name=dataset_name, input_len=input_len, output_len=output_len, train_val_test_ratio=train_val_test_ratio, mode=\"valid\")\n",
    "test_set = TimeSeriesForecastingDataset(dataset_name=dataset_name, input_len=input_len, output_len=output_len, train_val_test_ratio=train_val_test_ratio, mode=\"test\")\n",
    "\n",
    "train_loader = DataLoader(train_set, batch_size=batch_size, shuffle=True)\n",
    "valid_loader = DataLoader(valid_set, batch_size=batch_size, shuffle=False)\n",
    "test_loader = DataLoader(test_set, batch_size=batch_size, shuffle=False)\n",
    "\n",
    "scaler = ZScoreScaler(dataset_name=dataset_name, train_ratio=train_val_test_ratio[0], norm_each_channel=norm_each_channel, rescale=rescale)"
   ]
  },
  {
   "cell_type": "code",
   "execution_count": null,
   "metadata": {},
   "outputs": [],
   "source": [
    "# training * validation\n",
    "Xs_train = []\n",
    "Ys_train = []\n",
    "\n",
    "Xs_test = []\n",
    "Ys_test = []\n",
    "\n",
    "def preprocessing(input_data, scaler, target_time_series) -> Dict:\n",
    "    if scaler is not None:\n",
    "        input_data['target'] = scaler.transform(input_data['target'])\n",
    "        input_data['inputs'] = scaler.transform(input_data['inputs'])\n",
    "    if target_time_series is not None:\n",
    "        input_data['target'] = input_data['target'][:, :, target_time_series, :]\n",
    "        input_data['inputs'] = input_data['inputs'][:, :, target_time_series, :]\n",
    "    return input_data\n",
    "\n",
    "for i, iter_data in enumerate(train_loader):\n",
    "    iter_data = preprocessing(iter_data, scaler=scaler, target_time_series=target_time_series)\n",
    "    inputs, target = iter_data['inputs'], iter_data['target']\n",
    "    Xs_train.append(inputs)\n",
    "    Ys_train.append(target)\n",
    "\n",
    "\n",
    "\n",
    "for i, iter_data in enumerate(test_loader):\n",
    "    iter_data = preprocessing(iter_data, scaler=scaler, target_time_series=target_time_series)\n",
    "    inputs, target = iter_data['inputs'], iter_data['target']\n",
    "    Xs_test.append(inputs)\n",
    "    Ys_test.append(target)\n",
    "\n",
    "Xs_train = torch.cat(Xs_train, dim=0)[..., [0]]\n",
    "Xs_train = Xs_train[::input_len,:,:,:]\n",
    "Ys_train = torch.cat(Ys_train, dim=0)[..., [0]]\n",
    "Ys_train = Ys_train[::input_len,:,:,:]\n",
    "\n",
    "Xs_test = torch.cat(Xs_test, dim=0)[..., [0]]\n",
    "Ys_test = torch.cat(Ys_test, dim=0)[..., [0]]"
   ]
  },
  {
   "cell_type": "code",
   "execution_count": null,
   "metadata": {},
   "outputs": [],
   "source": [
    "def reshape(data):\n",
    "    B, L, N, C = data.shape\n",
    "    data = data[..., 0].transpose(1, 2).reshape(B*N, L) \n",
    "    return data.cpu().numpy()"
   ]
  },
  {
   "cell_type": "code",
   "execution_count": null,
   "metadata": {},
   "outputs": [],
   "source": [
    "Xs_test = reshape(Xs_test)\n",
    "Xs_train = reshape(Xs_train)\n",
    "Ys_train = reshape(Ys_train)"
   ]
  },
  {
   "cell_type": "markdown",
   "metadata": {},
   "source": [
    "## Train"
   ]
  },
  {
   "cell_type": "code",
   "execution_count": null,
   "metadata": {},
   "outputs": [],
   "source": [
    "# direct forecasting\n",
    "from sklearn.multioutput import MultiOutputRegressor\n",
    "model = MultiOutputRegressor(SVR(kernel=\"poly\"), n_jobs=-1)\n",
    "model.fit(Xs_train, Ys_train)"
   ]
  },
  {
   "cell_type": "markdown",
   "metadata": {},
   "source": [
    "## Test"
   ]
  },
  {
   "cell_type": "code",
   "execution_count": null,
   "metadata": {},
   "outputs": [],
   "source": [
    "# inference\n",
    "preds_test = model.predict(Xs_test)\n",
    "B, L, N, C = Ys_test.shape\n",
    "print(B, N, L, C)\n",
    "preds_test = torch.tensor(preds_test).reshape(B, N, L, 1)\n",
    "Ys_test = Ys_test.transpose(1, 2)"
   ]
  },
  {
   "cell_type": "code",
   "execution_count": null,
   "metadata": {},
   "outputs": [],
   "source": [
    "# print results\n",
    "print(\"MAE: \", masked_mae(preds_test, Ys_test, null_val).item())\n",
    "print(\"MSE: \", masked_mse(preds_test, Ys_test, null_val).item())\n",
    "print(\"RMSE: \", masked_rmse(preds_test, Ys_test, null_val).item())\n",
    "print(\"MAPE: {:.2f}%\".format(masked_mape(preds_test, Ys_test, null_val) * 100))"
   ]
  },
  {
   "cell_type": "markdown",
   "metadata": {},
   "source": [
    "##  Visualization"
   ]
  },
  {
   "cell_type": "code",
   "execution_count": null,
   "metadata": {},
   "outputs": [],
   "source": [
    "import matplotlib.pyplot as plt\n",
    "import numpy as np\n",
    "\n",
    "print(preds_test.shape)\n",
    "# 假设 preds_test 和 Ys_test 都是形状为 (B, N, L, 1) 的 NumPy 数组\n",
    "# 我们希望指定 B 和 N 来选择特定的预测序列和真实值\n",
    "\n",
    "B_index = 0  # 选择 B 维度的某一索引\n",
    "N_index = 0  # 选择 N 维度的某一索引\n",
    "\n",
    "# 选择预测值和真实值\n",
    "predicted_values = preds_test[B_index, N_index, :, 0]  # shape: (L,)\n",
    "true_values = Ys_test[B_index, N_index, :, 0]  # shape: (L,)\n",
    "\n",
    "# 创建时间序列图\n",
    "plt.figure(figsize=(10, 6))\n",
    "plt.plot(predicted_values, label='Predicted', color='blue', linestyle='--')\n",
    "plt.plot(true_values, label='True', color='red', linestyle='-')\n",
    "plt.xlabel('Time Step (L)')\n",
    "plt.ylabel('Value')\n",
    "plt.title(f'Prediction vs True Values (B={B_index}, N={N_index})')\n",
    "plt.legend()\n",
    "plt.grid(True)\n",
    "plt.show()\n"
   ]
  }
 ],
 "metadata": {
  "kernelspec": {
   "display_name": "lyj",
   "language": "python",
   "name": "python3"
  },
  "language_info": {
   "codemirror_mode": {
    "name": "ipython",
    "version": 3
   },
   "file_extension": ".py",
   "mimetype": "text/x-python",
   "name": "python",
   "nbconvert_exporter": "python",
   "pygments_lexer": "ipython3",
   "version": "3.11.5"
  }
 },
 "nbformat": 4,
 "nbformat_minor": 2
}

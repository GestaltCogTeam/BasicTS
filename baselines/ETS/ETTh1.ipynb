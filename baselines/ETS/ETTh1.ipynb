{
 "cells": [
  {
   "cell_type": "code",
   "execution_count": null,
   "metadata": {},
   "outputs": [],
   "source": [
    "import os\n",
    "import sys\n",
    "PROJECT_DIR = os.path.abspath(\"../..\")\n",
    "from joblib import Parallel, delayed\n",
    "from tqdm import tqdm\n",
    "import warnings\n",
    "warnings.filterwarnings(\"ignore\")\n",
    "os.chdir(PROJECT_DIR)\n",
    "sys.path.append(PROJECT_DIR)"
   ]
  },
  {
   "cell_type": "code",
   "execution_count": null,
   "metadata": {},
   "outputs": [],
   "source": [
    "from typing import Dict\n",
    "import numpy as np\n",
    "import torch\n",
    "from torch.utils.data import DataLoader\n",
    "from statsmodels.tsa.holtwinters import ExponentialSmoothing\n",
    "from basicts.utils import load_pkl, get_regular_settings\n",
    "from basicts.data import TimeSeriesForecastingDataset\n",
    "from basicts.metrics import masked_mae, masked_rmse, masked_mape, masked_mse\n",
    "from basicts.scaler import ZScoreScaler"
   ]
  },
  {
   "cell_type": "markdown",
   "metadata": {},
   "source": [
    "## Hyper-parameters"
   ]
  },
  {
   "cell_type": "code",
   "execution_count": null,
   "metadata": {},
   "outputs": [],
   "source": [
    "# construct configs\n",
    "dataset_name = \"ETTh1\"\n",
    "\n",
    "regular_settings = get_regular_settings(dataset_name)\n",
    "\n",
    "input_len = 96 #regular_settings['INPUT_LEN']\n",
    "output_len = 96 #regular_settings['OUTPUT_LEN']\n",
    "rescale = regular_settings['RESCALE']\n",
    "null_val = regular_settings['NULL_VAL']\n",
    "norm_each_channel = regular_settings['NORM_EACH_CHANNEL']\n",
    "train_val_test_ratio = regular_settings['TRAIN_VAL_TEST_RATIO']\n",
    "\n",
    "# target_time_series = None # for subset forecasting\n",
    "target_time_series = None # for subset forecasting\n",
    "\n",
    "gpu_num = 1\n",
    "batch_size = 128 # only used for collecting data\n",
    "params = {\n",
    "    'seasonal_periods': 24,\n",
    "    'trend':'add',\n",
    "    'seasonal':'add'\n",
    "}"
   ]
  },
  {
   "cell_type": "markdown",
   "metadata": {},
   "source": [
    "## Construct Dataset"
   ]
  },
  {
   "cell_type": "code",
   "execution_count": null,
   "metadata": {},
   "outputs": [],
   "source": [
    "test_set = TimeSeriesForecastingDataset(dataset_name=dataset_name, input_len=input_len, output_len=output_len, train_val_test_ratio=train_val_test_ratio, mode=\"test\")\n",
    "test_loader = DataLoader(test_set, batch_size=batch_size, shuffle=False)\n",
    "\n",
    "scaler = ZScoreScaler(dataset_name=dataset_name, train_ratio=train_val_test_ratio[0], norm_each_channel=norm_each_channel, rescale=rescale)"
   ]
  },
  {
   "cell_type": "code",
   "execution_count": null,
   "metadata": {},
   "outputs": [],
   "source": [
    "Xs_test = []\n",
    "Ys_test = []\n",
    "\n",
    "def preprocessing(input_data, scaler, target_time_series) -> Dict:\n",
    "    if scaler is not None:\n",
    "        input_data['target'] = scaler.transform(input_data['target'])\n",
    "        input_data['inputs'] = scaler.transform(input_data['inputs'])\n",
    "    if target_time_series is not None:\n",
    "        input_data['target'] = input_data['target'][:, :, target_time_series, :]\n",
    "        input_data['inputs'] = input_data['inputs'][:, :, target_time_series, :]\n",
    "    return input_data\n",
    "\n",
    "# Local forecasting\n",
    "# Test dataset only\n",
    "for i, iter_data in enumerate(test_loader):\n",
    "    iter_data = preprocessing(iter_data, scaler=scaler, target_time_series=target_time_series)\n",
    "    inputs, target = iter_data['inputs'], iter_data['target']\n",
    "    Xs_test.append(inputs)\n",
    "    Ys_test.append(target)\n",
    "\n",
    "\n",
    "Xs_test = torch.cat(Xs_test, dim=0)[..., [0]]\n",
    "Ys_test = torch.cat(Ys_test, dim=0)[..., [0]]\n"
   ]
  },
  {
   "cell_type": "code",
   "execution_count": null,
   "metadata": {},
   "outputs": [],
   "source": [
    "def reshape(data):\n",
    "    B, L, N, C = data.shape\n",
    "    data = data[..., 0].transpose(1, 2)\n",
    "    return data"
   ]
  },
  {
   "cell_type": "code",
   "execution_count": null,
   "metadata": {},
   "outputs": [],
   "source": [
    "B, N, L = reshape(Xs_test).shape\n",
    "B, N, L2 = reshape(Ys_test).shape\n",
    "result = np.zeros((B, N, L2))\n",
    "Xs_test = reshape(Xs_test).numpy()"
   ]
  },
  {
   "cell_type": "markdown",
   "metadata": {},
   "source": [
    "## Train (Direct Multi-Step Forecasting)"
   ]
  },
  {
   "cell_type": "code",
   "execution_count": null,
   "metadata": {},
   "outputs": [],
   "source": [
    "def fit_and_forecast(i, j, params):\n",
    "    data = Xs_test[i, j, :]\n",
    "    if params['seasonal_periods'] > (data.shape[0] //2):\n",
    "        params['seasonal'] = None\n",
    "        del params['seasonal_periods']\n",
    "\n",
    "    # Fitting\n",
    "    estimator = ExponentialSmoothing(data, **params).fit(method=\"least_squares\")\n",
    "\n",
    "    # Forecasting\n",
    "    forecast = estimator.forecast(steps=L2)\n",
    "    return i, j, forecast\n",
    "\n",
    "# Create task list\n",
    "tasks = [(i, j) for i in range(B) for j in range(N)]\n",
    "results = Parallel(n_jobs=-1)(\n",
    "    delayed(fit_and_forecast)(i, j, params) for i, j in tqdm(tasks, desc=\"Processing batches and series\")\n",
    ")\n",
    "\n",
    "for i, j, forecast in results:\n",
    "    result[i, j, :] = forecast"
   ]
  },
  {
   "cell_type": "markdown",
   "metadata": {},
   "source": [
    "## Test (Direct Multi-Step Forecasting)"
   ]
  },
  {
   "cell_type": "code",
   "execution_count": null,
   "metadata": {},
   "outputs": [],
   "source": [
    "Ys_test = reshape(Ys_test)\n",
    "B, N, L = Ys_test.shape\n",
    "prediction = torch.tensor(result).reshape(B, N, L)\n",
    "real_value = Ys_test"
   ]
  },
  {
   "cell_type": "code",
   "execution_count": null,
   "metadata": {},
   "outputs": [],
   "source": [
    "print(\"MAE: \", masked_mae(prediction, real_value, null_val).item())\n",
    "print(\"RMSE: \", masked_rmse(prediction, real_value, null_val).item())\n",
    "print(\"MSE: \", masked_mse(prediction, real_value, null_val).item())\n",
    "print(\"MAPE: {:.2f}%\".format(masked_mape(prediction, real_value, null_val) * 100))"
   ]
  },
  {
   "cell_type": "markdown",
   "metadata": {},
   "source": [
    "##  Visualization"
   ]
  },
  {
   "cell_type": "code",
   "execution_count": null,
   "metadata": {},
   "outputs": [],
   "source": [
    "import matplotlib.pyplot as plt\n",
    "import numpy as np\n",
    "\n",
    "print(prediction.shape)\n",
    "B_index = 0  # Select an index in dimension B\n",
    "N_index = 0  # Select an index in dimension N\n",
    "\n",
    "predicted_values = prediction[B_index, N_index, :]  # shape: (L,)\n",
    "true_values = Ys_test[B_index, N_index, :]  # shape: (L,)\n",
    "\n",
    "plt.figure(figsize=(10, 6))\n",
    "plt.plot(predicted_values, label='Predicted', color='blue', linestyle='--')\n",
    "plt.plot(true_values, label='True', color='red', linestyle='-')\n",
    "plt.xlabel('Time Step (L)')\n",
    "plt.ylabel('Value')\n",
    "plt.title(f'Prediction vs True Values (B={B_index}, N={N_index})')\n",
    "plt.legend()\n",
    "plt.grid(True)\n",
    "plt.show()"
   ]
  }
 ],
 "metadata": {
  "kernelspec": {
   "display_name": "lyj",
   "language": "python",
   "name": "python3"
  },
  "language_info": {
   "codemirror_mode": {
    "name": "ipython",
    "version": 3
   },
   "file_extension": ".py",
   "mimetype": "text/x-python",
   "name": "python",
   "nbconvert_exporter": "python",
   "pygments_lexer": "ipython3",
   "version": "3.11.5"
  }
 },
 "nbformat": 4,
 "nbformat_minor": 2
}

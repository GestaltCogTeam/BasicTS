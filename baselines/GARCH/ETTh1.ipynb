{
 "cells": [
  {
   "cell_type": "code",
   "execution_count": 1,
   "metadata": {},
   "outputs": [
    {
     "name": "stdout",
     "output_type": "stream",
     "text": [
      "/home/S22/workspace/lyj/BasicTS250828\n"
     ]
    }
   ],
   "source": [
    "import os\n",
    "import sys\n",
    "current_path = os.path.abspath(os.getcwd())\n",
    "PROJECT_DIR = os.path.abspath(\"../..\")\n",
    "print(PROJECT_DIR)\n",
    "os.chdir(PROJECT_DIR)\n",
    "sys.path.append(PROJECT_DIR)\n",
    "from joblib import Parallel, delayed\n",
    "from tqdm import tqdm\n",
    "import warnings\n",
    "warnings.filterwarnings(\"ignore\")"
   ]
  },
  {
   "cell_type": "code",
   "execution_count": 2,
   "metadata": {},
   "outputs": [],
   "source": [
    "from typing import Dict\n",
    "import torch\n",
    "from arch import arch_model\n",
    "from torch.utils.data import DataLoader\n",
    "import numpy as np\n",
    "from basicts.utils import load_pkl, get_regular_settings\n",
    "from basicts.data import TimeSeriesForecastingDataset\n",
    "from basicts.metrics import masked_mae, masked_rmse, masked_mape, masked_mse\n",
    "from basicts.scaler import ZScoreScaler\n",
    "import pandas as pd"
   ]
  },
  {
   "cell_type": "markdown",
   "metadata": {},
   "source": [
    "## Hyper-parameters"
   ]
  },
  {
   "cell_type": "code",
   "execution_count": null,
   "metadata": {},
   "outputs": [],
   "source": [
    "# construct configs\n",
    "dataset_name = \"ETTh1\"\n",
    "\n",
    "regular_settings = get_regular_settings(dataset_name)\n",
    "\n",
    "input_len = 96#regular_settings['INPUT_LEN']\n",
    "output_len = 96#regular_settings['OUTPUT_LEN']\n",
    "rescale = regular_settings['RESCALE']\n",
    "null_val = regular_settings['NULL_VAL']\n",
    "norm_each_channel = regular_settings['NORM_EACH_CHANNEL']\n",
    "train_val_test_ratio = regular_settings['TRAIN_VAL_TEST_RATIO']\n",
    "\n",
    "target_time_series = None # for subset forecasting\n",
    "\n",
    "gpu_num = 1\n",
    "batch_size = 128 # only used for collecting data\n",
    "\n",
    "# GARCH params\n",
    "# Refer to https://pypi.org/project/arch/ for parameter settings. We only provide a basic runtime framework.\n",
    "params = {\n",
    "    'vol': 'GARCH', \n",
    "    'p': 1,\n",
    "    'q': 1\n",
    "}"
   ]
  },
  {
   "cell_type": "markdown",
   "metadata": {},
   "source": [
    "## Construct Dataset"
   ]
  },
  {
   "cell_type": "code",
   "execution_count": 4,
   "metadata": {},
   "outputs": [],
   "source": [
    "test_set = TimeSeriesForecastingDataset(dataset_name=dataset_name, input_len=input_len, output_len=output_len, train_val_test_ratio=train_val_test_ratio, mode=\"test\")\n",
    "test_loader = DataLoader(test_set, batch_size=batch_size, shuffle=False)\n",
    "\n",
    "scaler = ZScoreScaler(dataset_name=dataset_name, train_ratio=train_val_test_ratio[0], norm_each_channel=norm_each_channel, rescale=rescale)"
   ]
  },
  {
   "cell_type": "code",
   "execution_count": 5,
   "metadata": {},
   "outputs": [],
   "source": [
    "Xs_test = []\n",
    "Ys_test = []\n",
    "\n",
    "def preprocessing(input_data, scaler, target_time_series) -> Dict:\n",
    "    if scaler is not None:\n",
    "        input_data['target'] = scaler.transform(input_data['target'])\n",
    "        input_data['inputs'] = scaler.transform(input_data['inputs'])\n",
    "    if target_time_series is not None:\n",
    "        input_data['target'] = input_data['target'][:, :, target_time_series, :]\n",
    "        input_data['inputs'] = input_data['inputs'][:, :, target_time_series, :]\n",
    "    return input_data\n",
    "\n",
    "# Local forecasting\n",
    "# Test dataset only\n",
    "for i, iter_data in enumerate(test_loader):\n",
    "    iter_data = preprocessing(iter_data, scaler=scaler, target_time_series=target_time_series)\n",
    "    inputs, target = iter_data['inputs'], iter_data['target']\n",
    "    Xs_test.append(inputs)\n",
    "    Ys_test.append(target)\n",
    "\n",
    "\n",
    "Xs_test = torch.cat(Xs_test, dim=0)[..., [0]]\n",
    "Xs_test = Xs_test[::input_len,:,:,:] # The time complexity of ARCH is so high that we have to sample at intervals to test its performance.\n",
    "Ys_test = torch.cat(Ys_test, dim=0)[..., [0]]\n",
    "Ys_test = Ys_test[::input_len,:,:,:]"
   ]
  },
  {
   "cell_type": "code",
   "execution_count": 6,
   "metadata": {},
   "outputs": [],
   "source": [
    "def reshape(data):\n",
    "    B, L, N, C = data.shape\n",
    "    data = data[..., 0].transpose(1, 2)\n",
    "    return data"
   ]
  },
  {
   "cell_type": "code",
   "execution_count": 7,
   "metadata": {},
   "outputs": [],
   "source": [
    "B, N, L = reshape(Xs_test).shape\n",
    "B, N, L2 = reshape(Ys_test).shape\n",
    "result = np.zeros((B, N, L2))\n",
    "Xs_test = reshape(Xs_test).numpy()"
   ]
  },
  {
   "cell_type": "markdown",
   "metadata": {},
   "source": [
    "## Train (Direct Multi-Step Forecasting)"
   ]
  },
  {
   "cell_type": "code",
   "execution_count": null,
   "metadata": {},
   "outputs": [
    {
     "name": "stdout",
     "output_type": "stream",
     "text": [
      "(29, 7, 96)\n"
     ]
    }
   ],
   "source": [
    "# Fitting and Forecasting Functions\n",
    "def fit_and_forecast(args, params):\n",
    "    i, j, data, real = args\n",
    "    # Fitting\n",
    "    estimator = arch_model(data * 10, **params).fit(disp='off') # Ensure your values generally fall between 1 and 1000 due to ARCH's code limitations.\n",
    "    warnings.filterwarnings(\"ignore\", category=RuntimeWarning)\n",
    "    # Forecasting\n",
    "    forecast_result = estimator.forecast(horizon=L2)\n",
    "    forecast = forecast_result.mean.values[-1, :] / 10\n",
    "    \n",
    "    return i, j, forecast\n",
    "\n",
    "\n",
    "print(Xs_test.shape)\n",
    "# Create task list\n",
    "tasks = [(i, j,  Xs_test[i, j, :], Ys_test[i, j, :]) for i in range(B) for j in range(N)]\n",
    "with Parallel(n_jobs=-1) as parallel:\n",
    "    results = list(parallel(delayed(fit_and_forecast)(task, params) for task in tasks))\n"
   ]
  },
  {
   "cell_type": "markdown",
   "metadata": {},
   "source": [
    "## Test (Direct Multi-Step Forecasting)"
   ]
  },
  {
   "cell_type": "code",
   "execution_count": 9,
   "metadata": {},
   "outputs": [],
   "source": [
    "Ys_test = reshape(Ys_test)\n",
    "B, N, L = Ys_test.shape\n",
    "prediction = torch.tensor(result).reshape(B, N, L)\n",
    "real_value = Ys_test"
   ]
  },
  {
   "cell_type": "code",
   "execution_count": 10,
   "metadata": {},
   "outputs": [
    {
     "name": "stdout",
     "output_type": "stream",
     "text": [
      "MAE:  0.796024530010228\n",
      "RMSE:  1.0522329139423747\n",
      "MSE:  1.107194105183661\n",
      "MAPE: 100.00%\n"
     ]
    }
   ],
   "source": [
    "# print results\n",
    "print(\"MAE: \", masked_mae(prediction, real_value, null_val).item())\n",
    "print(\"RMSE: \", masked_rmse(prediction, real_value, null_val).item())\n",
    "print(\"MSE: \", masked_mse(prediction, real_value, null_val).item())\n",
    "print(\"MAPE: {:.2f}%\".format(masked_mape(prediction, real_value, null_val) * 100))"
   ]
  }
 ],
 "metadata": {
  "kernelspec": {
   "display_name": "lyj",
   "language": "python",
   "name": "python3"
  },
  "language_info": {
   "codemirror_mode": {
    "name": "ipython",
    "version": 3
   },
   "file_extension": ".py",
   "mimetype": "text/x-python",
   "name": "python",
   "nbconvert_exporter": "python",
   "pygments_lexer": "ipython3",
   "version": "3.11.5"
  }
 },
 "nbformat": 4,
 "nbformat_minor": 2
}
